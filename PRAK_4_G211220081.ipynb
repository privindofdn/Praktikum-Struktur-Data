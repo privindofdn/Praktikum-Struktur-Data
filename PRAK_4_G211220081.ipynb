{
  "nbformat": 4,
  "nbformat_minor": 0,
  "metadata": {
    "colab": {
      "provenance": [],
      "authorship_tag": "ABX9TyN6aUIVLOzRxzQJ2HerSimU",
      "include_colab_link": true
    },
    "kernelspec": {
      "name": "python3",
      "display_name": "Python 3"
    },
    "language_info": {
      "name": "python"
    }
  },
  "cells": [
    {
      "cell_type": "markdown",
      "metadata": {
        "id": "view-in-github",
        "colab_type": "text"
      },
      "source": [
        "<a href=\"https://colab.research.google.com/github/privindofdn/Praktikum-Struktur-Data/blob/main/PRAK_4_G211220081.ipynb\" target=\"_parent\"><img src=\"https://colab.research.google.com/assets/colab-badge.svg\" alt=\"Open In Colab\"/></a>"
      ]
    },
    {
      "cell_type": "markdown",
      "source": [
        "MEMBUAT ALGORITMA PANGRAM"
      ],
      "metadata": {
        "id": "tGfXOwbEVjnE"
      }
    },
    {
      "cell_type": "code",
      "execution_count": 1,
      "metadata": {
        "colab": {
          "base_uri": "https://localhost:8080/"
        },
        "id": "J01Z8fqpVHbg",
        "outputId": "7d3b18d4-6cd4-473b-e65e-be3e5c1c9b0f"
      },
      "outputs": [
        {
          "output_type": "stream",
          "name": "stdout",
          "text": [
            "Masukkan sebuah string untuk diperiksa apakah itu pangram: The quick brown fox jumps over a lazy dog.\n",
            "Ini adalah sebuah pangram.\n"
          ]
        }
      ],
      "source": [
        "def is_pangram(s):\n",
        "    # Inisialisasi sebuah set kosong untuk menyimpan huruf-huruf yang ditemukan\n",
        "    alphabet_set = set()\n",
        "\n",
        "    # Mengubah string menjadi huruf kecil dan menghilangkan spasi\n",
        "    s = s.lower().replace(\" \", \"\")\n",
        "\n",
        "    # Iterasi melalui setiap karakter dalam string\n",
        "    for char in s:\n",
        "        # Jika karakter adalah huruf alfabet, tambahkan ke set\n",
        "        if char.isalpha():\n",
        "            alphabet_set.add(char)\n",
        "\n",
        "    # Jika panjang set adalah 26 (jumlah huruf alfabet), itu adalah pangram\n",
        "    return len(alphabet_set) == 26\n",
        "\n",
        "# Meminta pengguna untuk memasukkan string pangram\n",
        "input_string = input(\"Masukkan sebuah string untuk diperiksa apakah itu pangram: \")\n",
        "\n",
        "if is_pangram(input_string):\n",
        "    print(\"Ini adalah sebuah pangram.\")\n",
        "else:\n",
        "    print(\"Ini bukan pangram.\")"
      ]
    }
  ]
}