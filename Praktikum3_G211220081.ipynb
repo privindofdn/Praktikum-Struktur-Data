{
  "nbformat": 4,
  "nbformat_minor": 0,
  "metadata": {
    "colab": {
      "provenance": [],
      "authorship_tag": "ABX9TyMI3mrsEcEC7G3tvm6fnc19",
      "include_colab_link": true
    },
    "kernelspec": {
      "name": "python3",
      "display_name": "Python 3"
    },
    "language_info": {
      "name": "python"
    }
  },
  "cells": [
    {
      "cell_type": "markdown",
      "metadata": {
        "id": "view-in-github",
        "colab_type": "text"
      },
      "source": [
        "<a href=\"https://colab.research.google.com/github/privindofdn/Praktikum-Struktur-Data/blob/main/Praktikum3_G211220081.ipynb\" target=\"_parent\"><img src=\"https://colab.research.google.com/assets/colab-badge.svg\" alt=\"Open In Colab\"/></a>"
      ]
    },
    {
      "cell_type": "markdown",
      "source": [
        "**Program Python untuk mengonversi daftar karakter**"
      ],
      "metadata": {
        "id": "Bp1elIm8ZInV"
      }
    },
    {
      "cell_type": "code",
      "execution_count": 1,
      "metadata": {
        "colab": {
          "base_uri": "https://localhost:8080/"
        },
        "id": "jeGJ-f7-ZCkQ",
        "outputId": "ecc02585-e7b5-411b-be66-30c541609d49"
      },
      "outputs": [
        {
          "output_type": "stream",
          "name": "stdout",
          "text": [
            "PROGRAMMING\n"
          ]
        }
      ],
      "source": [
        "# Membuat daftar karakter\n",
        "daftar_karakter = ['P', 'R', 'O', 'G', 'R', 'A', 'M', 'M', 'I', 'N', 'G']\n",
        "\n",
        "# Menggabungkan daftar karakter menjadi sebuah kata\n",
        "kata = ''.join(daftar_karakter)\n",
        "\n",
        "# Cetak kata hasil konversi\n",
        "print(kata)\n"
      ]
    }
  ]
}