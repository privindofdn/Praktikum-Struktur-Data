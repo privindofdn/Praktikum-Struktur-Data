{
  "nbformat": 4,
  "nbformat_minor": 0,
  "metadata": {
    "colab": {
      "provenance": [],
      "authorship_tag": "ABX9TyPmTOAHfySpo6oIwAQ9DOMN",
      "include_colab_link": true
    },
    "kernelspec": {
      "name": "python3",
      "display_name": "Python 3"
    },
    "language_info": {
      "name": "python"
    }
  },
  "cells": [
    {
      "cell_type": "markdown",
      "metadata": {
        "id": "view-in-github",
        "colab_type": "text"
      },
      "source": [
        "<a href=\"https://colab.research.google.com/github/privindofdn/Praktikum-Struktur-Data/blob/main/Praktikum2_G211220081.ipynb\" target=\"_parent\"><img src=\"https://colab.research.google.com/assets/colab-badge.svg\" alt=\"Open In Colab\"/></a>"
      ]
    },
    {
      "cell_type": "code",
      "execution_count": 3,
      "metadata": {
        "colab": {
          "base_uri": "https://localhost:8080/"
        },
        "id": "tDl_U3KaQFXd",
        "outputId": "5b0a9230-f19f-4761-81b5-27ce7d8eb3e5"
      },
      "outputs": [
        {
          "output_type": "stream",
          "name": "stdout",
          "text": [
            "1\n",
            "6\n"
          ]
        }
      ],
      "source": [
        "# Membuat sebuah tuple\n",
        "my_tuple = (1, 2, 3, 4, 5, 6)\n",
        "\n",
        "# Mengakses elemen tuple\n",
        "print(my_tuple[0])  # Output: 1\n",
        "print(my_tuple[5])  # Output: 6\n",
        "\n",
        "# Tuple bersifat tidak dapat diubah (immutable), jadi Anda tidak dapat menambahkan atau mengubah elemennya"
      ]
    },
    {
      "cell_type": "code",
      "source": [
        "# Membuat sebuah dictionary\n",
        "my_dict = {\n",
        "    \"nama\": \"Marie\",\n",
        "    \"umur\": 40,\n",
        "    \"kota\": \"Florida\"\n",
        "}\n",
        "\n",
        "# Mengakses nilai dalam dictionary berdasarkan kunci (key)\n",
        "print(my_dict[\"nama\"])  # Output: John\n",
        "print(my_dict[\"umur\"])  # Output: 30\n",
        "\n",
        "# Menambahkan item ke dictionary\n",
        "my_dict[\"pekerjaan\"] = \"Arsitektur\"\n",
        "\n",
        "# Menghapus item dari dictionary\n",
        "del my_dict[\"kota\"]"
      ],
      "metadata": {
        "colab": {
          "base_uri": "https://localhost:8080/"
        },
        "id": "cTsNkuOFQghX",
        "outputId": "a665e2b2-3e74-4de6-ed26-9628651f374b"
      },
      "execution_count": 5,
      "outputs": [
        {
          "output_type": "stream",
          "name": "stdout",
          "text": [
            "Marie\n",
            "40\n"
          ]
        }
      ]
    },
    {
      "cell_type": "code",
      "source": [
        "my_tuple = (1, 2, 3, 4, 5)\n",
        "\n",
        "# Menghapus tuple\n",
        "del my_tuple\n",
        "\n",
        "# Mencoba mengakses tuple setelah dihapus akan menghasilkan error\n",
        "# print(my_tuple)  # Ini akan menghasilkan NameError: name 'my_tuple' is not defined\n"
      ],
      "metadata": {
        "id": "mNxK1u_LRM1z"
      },
      "execution_count": 6,
      "outputs": []
    },
    {
      "cell_type": "code",
      "source": [
        "# Tuple dengan satu elemen (gunakan koma setelah elemen)\n",
        "single_element_tuple = (38,)\n",
        "\n",
        "# Anda juga dapat membuat tuple tanpa komentar, tetapi perlu hati-hati\n",
        "# single_element_tuple = (38)  # Ini akan dianggap sebagai integer, bukan tuple\n",
        "\n",
        "# Mengakses elemen dalam tuple\n",
        "value = single_element_tuple[0]\n",
        "print(value)  # Output: 38\n",
        "\n",
        "# Memeriksa panjang tuple\n",
        "length = len(single_element_tuple)\n",
        "print(\"Panjang tuple:\", length)  # Output: Panjang tuple: 1\n",
        "\n",
        "# Iterasi melalui elemen-elemen tuple\n",
        "for item in single_element_tuple:\n",
        "    print(item)  # Output: 38\n",
        "\n",
        "# Menambahkan tuple dengan satu elemen ke tuple lain\n",
        "tuple1 = (1, 2, 3)\n",
        "new_tuple = tuple1 + single_element_tuple\n",
        "print(new_tuple)  # Output: (1, 2, 3, 38)\n",
        "\n",
        "# Menggandakan tuple dengan satu elemen\n",
        "duplicated_tuple = single_element_tuple * 3\n",
        "print(duplicated_tuple)  # Output: (38, 38, 38)\n",
        "\n",
        "# Memeriksa apakah elemen tertentu ada dalam tuple\n",
        "is_present = 38 in single_element_tuple\n",
        "print(\"Apakah 38 ada dalam tuple?\", is_present)  # Output: Apakah 38 ada dalam tuple? True\n",
        "\n",
        "# Menyusun tuple dengan satu elemen\n",
        "single_element_tuple = (38,)  # Perhatikan penggunaan koma setelah elemen"
      ],
      "metadata": {
        "colab": {
          "base_uri": "https://localhost:8080/"
        },
        "id": "RgrV8lakRPYk",
        "outputId": "dfda0ab0-46d6-404f-aae6-c09f4a257b8b"
      },
      "execution_count": 12,
      "outputs": [
        {
          "output_type": "stream",
          "name": "stdout",
          "text": [
            "38\n",
            "Panjang tuple: 1\n",
            "38\n",
            "(1, 2, 3, 38)\n",
            "(38, 38, 38)\n",
            "Apakah 38 ada dalam tuple? True\n"
          ]
        }
      ]
    },
    {
      "cell_type": "code",
      "source": [
        "# Iterasi melalui key dan value dalam dictionary\n",
        "for key, value in my_dict.items():\n",
        "    print(key, \":\", value)\n",
        "\n",
        "# Output:\n",
        "# nama : Marie\n",
        "# umur : 40\n",
        "# pekerjaan : Arsitektur\n"
      ],
      "metadata": {
        "id": "OJYQ9ROpS0qe",
        "outputId": "68b1a7c0-c895-4ef7-903f-3ce25063135d",
        "colab": {
          "base_uri": "https://localhost:8080/"
        }
      },
      "execution_count": 14,
      "outputs": [
        {
          "output_type": "stream",
          "name": "stdout",
          "text": [
            "nama : Marie\n",
            "umur : 40\n",
            "pekerjaan : Arsitektur\n"
          ]
        }
      ]
    }
  ]
}