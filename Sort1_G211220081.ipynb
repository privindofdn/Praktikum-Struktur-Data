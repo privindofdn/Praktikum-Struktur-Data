{
  "nbformat": 4,
  "nbformat_minor": 0,
  "metadata": {
    "colab": {
      "provenance": [],
      "authorship_tag": "ABX9TyPYJK2X7Gt+lbsJ1Nb/Pl2p",
      "include_colab_link": true
    },
    "kernelspec": {
      "name": "python3",
      "display_name": "Python 3"
    },
    "language_info": {
      "name": "python"
    }
  },
  "cells": [
    {
      "cell_type": "markdown",
      "metadata": {
        "id": "view-in-github",
        "colab_type": "text"
      },
      "source": [
        "<a href=\"https://colab.research.google.com/github/privindofdn/Praktikum-Struktur-Data/blob/main/Sort1_G211220081.ipynb\" target=\"_parent\"><img src=\"https://colab.research.google.com/assets/colab-badge.svg\" alt=\"Open In Colab\"/></a>"
      ]
    },
    {
      "cell_type": "code",
      "execution_count": 4,
      "metadata": {
        "colab": {
          "base_uri": "https://localhost:8080/"
        },
        "id": "kRzefLdJj8u5",
        "outputId": "3a05dd98-c944-4245-b0d3-fece4754ef2f"
      },
      "outputs": [
        {
          "output_type": "stream",
          "name": "stdout",
          "text": [
            "Masukkan angka yang ingin diurutkan, pisahkan dengan spasi: 7 5 9 2 3 1 6 8\n",
            "Sorted array is: [1, 2, 3, 5, 6, 7, 8, 9]\n"
          ]
        }
      ],
      "source": [
        "def bubbleSort(arr):\n",
        "    n = len(arr)\n",
        "\n",
        "    for i in range(n - 1):\n",
        "        swapped = False\n",
        "        for j in range(0, n - i - 1):\n",
        "            if arr[j] > arr[j + 1]:\n",
        "                arr[j], arr[j + 1] = arr[j + 1], arr[j]\n",
        "                swapped = True\n",
        "\n",
        "        if not swapped:\n",
        "            break  # Jika tidak ada elemen yang ditukar, array sudah diurutkan\n",
        "\n",
        "# Kode driver untuk diuji di atas\n",
        "user_input = input(\"Masukkan angka yang ingin diurutkan, pisahkan dengan spasi: \")\n",
        "arr = list(map(int, user_input.split()))\n",
        "bubbleSort(arr)\n",
        "print(\"Sorted array is:\", arr)\n"
      ]
    },
    {
      "cell_type": "code",
      "source": [
        "# Program Python untuk implementasi Seleksi Sortir\n",
        "def selectionSort(arr):\n",
        "    for i in range(len(arr)):\n",
        "        min_idx = i\n",
        "        for j in range(i + 1, len(arr)):\n",
        "            if arr[min_idx] > arr[j]:\n",
        "                min_idx = j\n",
        "        arr[i], arr[min_idx] = arr[min_idx], arr[i]\n",
        "\n",
        "    return arr\n",
        "\n",
        "# Selection Sort ke dalam Fungsi\n",
        "A = [64, 25, 12, 22, 11]\n",
        "sorted_selection = selectionSort(A)\n",
        "print(\"Sorted array using Selection Sort:\", sorted_selection)\n",
        "\n"
      ],
      "metadata": {
        "colab": {
          "base_uri": "https://localhost:8080/"
        },
        "id": "RB2AhYvMlIJc",
        "outputId": "30177c5e-6e29-48cb-8d3f-768a2860d676"
      },
      "execution_count": 5,
      "outputs": [
        {
          "output_type": "stream",
          "name": "stdout",
          "text": [
            "Sorted array using Selection Sort: [11, 12, 22, 25, 64]\n"
          ]
        }
      ]
    },
    {
      "cell_type": "code",
      "source": [
        "def insertionSort(arr):\n",
        "    for i in range(1, len(arr)):\n",
        "        key = arr[i]\n",
        "        j = i - 1\n",
        "        while j >= 0 and key < arr[j]:\n",
        "            arr[j + 1] = arr[j]\n",
        "            j -= 1\n",
        "        arr[j + 1] = key\n",
        "\n",
        "    return arr\n",
        "\n",
        "# Insertion Sort ke dalam Fungsi dan Uji dengan Input Pengguna\n",
        "user_input = input(\"Masukkan angka yang ingin diurutkan, pisahkan dengan spasi: \")\n",
        "input_arr = list(map(int, user_input.split()))\n",
        "sorted_insertion = insertionSort(input_arr)\n",
        "print(\"Sorted array using Insertion Sort:\", sorted_insertion)\n"
      ],
      "metadata": {
        "colab": {
          "base_uri": "https://localhost:8080/"
        },
        "id": "DH_ck1z1mu-7",
        "outputId": "3820a6a7-264a-4b97-ee71-f85f843a2f75"
      },
      "execution_count": 6,
      "outputs": [
        {
          "output_type": "stream",
          "name": "stdout",
          "text": [
            "Masukkan angka yang ingin diurutkan, pisahkan dengan spasi: 10 2 5 6 8 3 4 9 1\n",
            "Sorted array using Insertion Sort: [1, 2, 3, 4, 5, 6, 8, 9, 10]\n"
          ]
        }
      ]
    },
    {
      "cell_type": "markdown",
      "source": [
        "**Bubble Sort:**\n",
        "\n",
        "Mengulangi daftar, membandingkan pasangan elemen berturut-turut, dan menukar jika tidak dalam urutan yang benar hingga seluruh daftar terurut.\n",
        "\n",
        "**Selection Sort:**\n",
        "\n",
        "Memisahkan daftar menjadi bagian yang sudah diurutkan dan belum diurutkan. Setiap langkah, mencari elemen terkecil dari yang belum diurutkan dan menukarnya dengan elemen pertama dari yang belum diurutkan.\n",
        "\n",
        "**Insertion Sort:**\n",
        "\n",
        "Juga memisahkan daftar menjadi bagian yang sudah diurutkan dan belum diurutkan. Pada setiap langkah, mengambil satu elemen dari yang belum diurutkan dan memasukkannya ke posisi yang sesuai dalam bagian yang sudah diurutkan.\n",
        "\n",
        "Semua tiga algoritma ini bergantung pada perbandingan elemen untuk mengurutkan daftar dan memiliki kinerja yang kurang efisien pada daftar yang besar karena kompleksitas waktu yang cenderung meningkat secara kuadratik."
      ],
      "metadata": {
        "id": "Sa3u8AN_lh0i"
      }
    }
  ]
}